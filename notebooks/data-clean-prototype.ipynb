{
 "cells": [
  {
   "cell_type": "markdown",
   "metadata": {},
   "source": [
    "This notebook is meant to be a place to prototype functions that clean the data. All these functions go into a final Python script."
   ]
  },
  {
   "cell_type": "code",
   "execution_count": 17,
   "metadata": {
    "collapsed": true
   },
   "outputs": [],
   "source": [
    "import pandas as pd\n",
    "from Bio import SeqIO"
   ]
  },
  {
   "cell_type": "markdown",
   "metadata": {},
   "source": [
    "# Clean IRD CSV file"
   ]
  },
  {
   "cell_type": "code",
   "execution_count": 18,
   "metadata": {
    "collapsed": false
   },
   "outputs": [
    {
     "data": {
      "text/plain": [
       "(46724, 12)"
      ]
     },
     "execution_count": 18,
     "metadata": {},
     "output_type": "execute_result"
    }
   ],
   "source": [
    "ird_df = pd.read_csv('../data/20160411_Minto_Run2 Sequences.backup_20160518.csv')\n",
    "ird_df['Sequence Accession'] = ird_df['Sequence Accession'].str.strip('*')\n",
    "ird_df.shape"
   ]
  },
  {
   "cell_type": "code",
   "execution_count": 19,
   "metadata": {
    "collapsed": false
   },
   "outputs": [
    {
     "data": {
      "text/plain": [
       "(36304, 13)"
      ]
     },
     "execution_count": 19,
     "metadata": {},
     "output_type": "execute_result"
    }
   ],
   "source": [
    "ird_df['date_length'] = ird_df['Collection Date'].str.split('/').str.len()\n",
    "ird_df = ird_df[ird_df['date_length'] == 3]\n",
    "ird_df.shape"
   ]
  },
  {
   "cell_type": "code",
   "execution_count": 20,
   "metadata": {
    "collapsed": true
   },
   "outputs": [],
   "source": [
    "ird_df.to_csv('../data/20160411_Minto_Run2 Sequences.csv')"
   ]
  },
  {
   "cell_type": "code",
   "execution_count": 21,
   "metadata": {
    "collapsed": false
   },
   "outputs": [
    {
     "data": {
      "text/html": [
       "<div>\n",
       "<table border=\"1\" class=\"dataframe\">\n",
       "  <thead>\n",
       "    <tr style=\"text-align: right;\">\n",
       "      <th></th>\n",
       "      <th>Segment</th>\n",
       "      <th>Protein Name</th>\n",
       "      <th>Sequence Accession</th>\n",
       "      <th>Complete Genome</th>\n",
       "      <th>Segment Length</th>\n",
       "      <th>Subtype</th>\n",
       "      <th>Collection Date</th>\n",
       "      <th>Host Species</th>\n",
       "      <th>Country</th>\n",
       "      <th>State/Province</th>\n",
       "      <th>Flu Season</th>\n",
       "      <th>Strain Name</th>\n",
       "      <th>date_length</th>\n",
       "    </tr>\n",
       "  </thead>\n",
       "  <tbody>\n",
       "    <tr>\n",
       "      <th>8</th>\n",
       "      <td>8</td>\n",
       "      <td>NS1,NS2</td>\n",
       "      <td>KU289742</td>\n",
       "      <td>Yes</td>\n",
       "      <td>865</td>\n",
       "      <td>H7N3</td>\n",
       "      <td>02/18/2010</td>\n",
       "      <td>IRD:American Black Duck/Avian</td>\n",
       "      <td>USA</td>\n",
       "      <td>Delaware</td>\n",
       "      <td>09-10</td>\n",
       "      <td>A/American black duck/Delaware/A00870108/2010</td>\n",
       "      <td>3</td>\n",
       "    </tr>\n",
       "    <tr>\n",
       "      <th>9</th>\n",
       "      <td>3</td>\n",
       "      <td>PA,PA-N155,PA-N182,PA-X protein(+61)</td>\n",
       "      <td>KU289743</td>\n",
       "      <td>Yes</td>\n",
       "      <td>2208</td>\n",
       "      <td>H7N3</td>\n",
       "      <td>02/18/2010</td>\n",
       "      <td>IRD:American Black Duck/Avian</td>\n",
       "      <td>USA</td>\n",
       "      <td>Delaware</td>\n",
       "      <td>09-10</td>\n",
       "      <td>A/American black duck/Delaware/A00870108/2010</td>\n",
       "      <td>3</td>\n",
       "    </tr>\n",
       "    <tr>\n",
       "      <th>10</th>\n",
       "      <td>4</td>\n",
       "      <td>HA</td>\n",
       "      <td>KU289738</td>\n",
       "      <td>Yes</td>\n",
       "      <td>1706</td>\n",
       "      <td>H7N3</td>\n",
       "      <td>02/18/2010</td>\n",
       "      <td>IRD:American Black Duck/Avian</td>\n",
       "      <td>USA</td>\n",
       "      <td>Delaware</td>\n",
       "      <td>09-10</td>\n",
       "      <td>A/American black duck/Delaware/A00870108/2010</td>\n",
       "      <td>3</td>\n",
       "    </tr>\n",
       "    <tr>\n",
       "      <th>11</th>\n",
       "      <td>1</td>\n",
       "      <td>PB2</td>\n",
       "      <td>KU289745</td>\n",
       "      <td>Yes</td>\n",
       "      <td>2307</td>\n",
       "      <td>H7N3</td>\n",
       "      <td>02/18/2010</td>\n",
       "      <td>IRD:American Black Duck/Avian</td>\n",
       "      <td>USA</td>\n",
       "      <td>Delaware</td>\n",
       "      <td>09-10</td>\n",
       "      <td>A/American black duck/Delaware/A00870108/2010</td>\n",
       "      <td>3</td>\n",
       "    </tr>\n",
       "    <tr>\n",
       "      <th>12</th>\n",
       "      <td>6</td>\n",
       "      <td>NaN</td>\n",
       "      <td>KU289740</td>\n",
       "      <td>Yes</td>\n",
       "      <td>1428</td>\n",
       "      <td>H7N3</td>\n",
       "      <td>02/18/2010</td>\n",
       "      <td>IRD:American Black Duck/Avian</td>\n",
       "      <td>USA</td>\n",
       "      <td>Delaware</td>\n",
       "      <td>09-10</td>\n",
       "      <td>A/American black duck/Delaware/A00870108/2010</td>\n",
       "      <td>3</td>\n",
       "    </tr>\n",
       "  </tbody>\n",
       "</table>\n",
       "</div>"
      ],
      "text/plain": [
       "    Segment                          Protein Name Sequence Accession  \\\n",
       "8         8                               NS1,NS2           KU289742   \n",
       "9         3  PA,PA-N155,PA-N182,PA-X protein(+61)           KU289743   \n",
       "10        4                                    HA           KU289738   \n",
       "11        1                                   PB2           KU289745   \n",
       "12        6                                   NaN           KU289740   \n",
       "\n",
       "   Complete Genome  Segment Length Subtype Collection Date  \\\n",
       "8              Yes             865    H7N3      02/18/2010   \n",
       "9              Yes            2208    H7N3      02/18/2010   \n",
       "10             Yes            1706    H7N3      02/18/2010   \n",
       "11             Yes            2307    H7N3      02/18/2010   \n",
       "12             Yes            1428    H7N3      02/18/2010   \n",
       "\n",
       "                     Host Species Country State/Province Flu Season  \\\n",
       "8   IRD:American Black Duck/Avian     USA       Delaware      09-10   \n",
       "9   IRD:American Black Duck/Avian     USA       Delaware      09-10   \n",
       "10  IRD:American Black Duck/Avian     USA       Delaware      09-10   \n",
       "11  IRD:American Black Duck/Avian     USA       Delaware      09-10   \n",
       "12  IRD:American Black Duck/Avian     USA       Delaware      09-10   \n",
       "\n",
       "                                      Strain Name  date_length  \n",
       "8   A/American black duck/Delaware/A00870108/2010            3  \n",
       "9   A/American black duck/Delaware/A00870108/2010            3  \n",
       "10  A/American black duck/Delaware/A00870108/2010            3  \n",
       "11  A/American black duck/Delaware/A00870108/2010            3  \n",
       "12  A/American black duck/Delaware/A00870108/2010            3  "
      ]
     },
     "execution_count": 21,
     "metadata": {},
     "output_type": "execute_result"
    }
   ],
   "source": [
    "ird_df.head()"
   ]
  },
  {
   "cell_type": "markdown",
   "metadata": {
    "collapsed": true
   },
   "source": [
    "# Clean FASTA file"
   ]
  },
  {
   "cell_type": "code",
   "execution_count": 22,
   "metadata": {
    "collapsed": true
   },
   "outputs": [],
   "source": [
    "ird_sequences = SeqIO.to_dict(SeqIO.parse('../data/20160411_Minto_Run2 Sequences.backup_20160518.fasta', 'fasta'))"
   ]
  },
  {
   "cell_type": "code",
   "execution_count": 23,
   "metadata": {
    "collapsed": false
   },
   "outputs": [
    {
     "data": {
      "text/plain": [
       "SeqRecord(seq=Seq('ATGGAAGCAGTATCACTAATAACTATACTACTAGTAGTGACAGTAAGCAATGCA...TAA', SingleLetterAlphabet()), id='KF715236', name='KF715236', description='KF715236', dbxrefs=[])"
      ]
     },
     "execution_count": 23,
     "metadata": {},
     "output_type": "execute_result"
    }
   ],
   "source": [
    "ird_sequences['KF715236']"
   ]
  },
  {
   "cell_type": "code",
   "execution_count": 24,
   "metadata": {
    "collapsed": true
   },
   "outputs": [],
   "source": [
    "filtered_sequences = dict()\n",
    "for k, v in ird_sequences.items():\n",
    "    if k in ird_df['Sequence Accession'].values:\n",
    "        filtered_sequences[k] = v"
   ]
  },
  {
   "cell_type": "code",
   "execution_count": 25,
   "metadata": {
    "collapsed": false
   },
   "outputs": [
    {
     "data": {
      "text/plain": [
       "(36304, 46724)"
      ]
     },
     "execution_count": 25,
     "metadata": {},
     "output_type": "execute_result"
    }
   ],
   "source": [
    "len(filtered_sequences), len(ird_sequences)"
   ]
  },
  {
   "cell_type": "code",
   "execution_count": 29,
   "metadata": {
    "collapsed": false
   },
   "outputs": [
    {
     "data": {
      "text/plain": [
       "36304"
      ]
     },
     "execution_count": 29,
     "metadata": {},
     "output_type": "execute_result"
    }
   ],
   "source": [
    "SeqIO.write(filtered_sequences.values(), '../data/20160411_Minto_Run2 Sequences.fasta', 'fasta')"
   ]
  },
  {
   "cell_type": "code",
   "execution_count": null,
   "metadata": {
    "collapsed": true
   },
   "outputs": [],
   "source": []
  }
 ],
 "metadata": {
  "kernelspec": {
   "display_name": "Python 3",
   "language": "python",
   "name": "python3"
  },
  "language_info": {
   "codemirror_mode": {
    "name": "ipython",
    "version": 3
   },
   "file_extension": ".py",
   "mimetype": "text/x-python",
   "name": "python",
   "nbconvert_exporter": "python",
   "pygments_lexer": "ipython3",
   "version": "3.5.1"
  },
  "widgets": {
   "state": {},
   "version": "1.1.1"
  }
 },
 "nbformat": 4,
 "nbformat_minor": 0
}
