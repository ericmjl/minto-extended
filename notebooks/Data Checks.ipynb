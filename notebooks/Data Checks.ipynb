{
 "cells": [
  {
   "cell_type": "code",
   "execution_count": 1,
   "metadata": {
    "collapsed": true
   },
   "outputs": [],
   "source": [
    "import pandas as pd"
   ]
  },
  {
   "cell_type": "markdown",
   "metadata": {},
   "source": [
    "The purpose of this notebook is to check that all 79 of the sequences submitted are present in the IRD download.\n",
    "\n",
    "TODO:\n",
    "* [ ] Turn this into a Python script for data checking."
   ]
  },
  {
   "cell_type": "code",
   "execution_count": 2,
   "metadata": {
    "collapsed": false
   },
   "outputs": [
    {
     "data": {
      "text/html": [
       "<div>\n",
       "<table border=\"1\" class=\"dataframe\">\n",
       "  <thead>\n",
       "    <tr style=\"text-align: right;\">\n",
       "      <th></th>\n",
       "      <th>Segment</th>\n",
       "      <th>Protein Name</th>\n",
       "      <th>Sequence Accession</th>\n",
       "      <th>Complete Genome</th>\n",
       "      <th>Segment Length</th>\n",
       "      <th>Subtype</th>\n",
       "      <th>Collection Date</th>\n",
       "      <th>Host Species</th>\n",
       "      <th>Country</th>\n",
       "      <th>State/Province</th>\n",
       "      <th>Flu Season</th>\n",
       "      <th>Strain Name</th>\n",
       "    </tr>\n",
       "  </thead>\n",
       "  <tbody>\n",
       "    <tr>\n",
       "      <th>0</th>\n",
       "      <td>5</td>\n",
       "      <td>NP</td>\n",
       "      <td>AB753218</td>\n",
       "      <td>Yes</td>\n",
       "      <td>1530</td>\n",
       "      <td>H9N2</td>\n",
       "      <td>11/2009</td>\n",
       "      <td>African Stonechat</td>\n",
       "      <td>Viet Nam</td>\n",
       "      <td>-N/A-</td>\n",
       "      <td>-N/A-</td>\n",
       "      <td>A/African Stonechat/Vietnam/8/2009</td>\n",
       "    </tr>\n",
       "    <tr>\n",
       "      <th>1</th>\n",
       "      <td>2</td>\n",
       "      <td>PB1,PB1-F2,PB1-N40</td>\n",
       "      <td>AB753215</td>\n",
       "      <td>Yes</td>\n",
       "      <td>2309</td>\n",
       "      <td>H9N2</td>\n",
       "      <td>11/2009</td>\n",
       "      <td>African Stonechat</td>\n",
       "      <td>Viet Nam</td>\n",
       "      <td>-N/A-</td>\n",
       "      <td>-N/A-</td>\n",
       "      <td>A/African Stonechat/Vietnam/8/2009</td>\n",
       "    </tr>\n",
       "    <tr>\n",
       "      <th>2</th>\n",
       "      <td>4</td>\n",
       "      <td>HA</td>\n",
       "      <td>AB753217</td>\n",
       "      <td>Yes</td>\n",
       "      <td>1708</td>\n",
       "      <td>H9N2</td>\n",
       "      <td>11/2009</td>\n",
       "      <td>African Stonechat</td>\n",
       "      <td>Viet Nam</td>\n",
       "      <td>-N/A-</td>\n",
       "      <td>-N/A-</td>\n",
       "      <td>A/African Stonechat/Vietnam/8/2009</td>\n",
       "    </tr>\n",
       "    <tr>\n",
       "      <th>3</th>\n",
       "      <td>7</td>\n",
       "      <td>M1,M2</td>\n",
       "      <td>AB753221</td>\n",
       "      <td>Yes</td>\n",
       "      <td>992</td>\n",
       "      <td>H9N2</td>\n",
       "      <td>11/2009</td>\n",
       "      <td>African Stonechat</td>\n",
       "      <td>Viet Nam</td>\n",
       "      <td>-N/A-</td>\n",
       "      <td>-N/A-</td>\n",
       "      <td>A/African Stonechat/Vietnam/8/2009</td>\n",
       "    </tr>\n",
       "    <tr>\n",
       "      <th>4</th>\n",
       "      <td>3</td>\n",
       "      <td>PA,PA-N155,PA-N182,PA-X protein(+61)</td>\n",
       "      <td>AB753216</td>\n",
       "      <td>Yes</td>\n",
       "      <td>2200</td>\n",
       "      <td>H9N2</td>\n",
       "      <td>11/2009</td>\n",
       "      <td>African Stonechat</td>\n",
       "      <td>Viet Nam</td>\n",
       "      <td>-N/A-</td>\n",
       "      <td>-N/A-</td>\n",
       "      <td>A/African Stonechat/Vietnam/8/2009</td>\n",
       "    </tr>\n",
       "  </tbody>\n",
       "</table>\n",
       "</div>"
      ],
      "text/plain": [
       "   Segment                          Protein Name Sequence Accession  \\\n",
       "0        5                                    NP           AB753218   \n",
       "1        2                    PB1,PB1-F2,PB1-N40           AB753215   \n",
       "2        4                                    HA           AB753217   \n",
       "3        7                                 M1,M2           AB753221   \n",
       "4        3  PA,PA-N155,PA-N182,PA-X protein(+61)           AB753216   \n",
       "\n",
       "  Complete Genome  Segment Length Subtype Collection Date       Host Species  \\\n",
       "0             Yes            1530    H9N2         11/2009  African Stonechat   \n",
       "1             Yes            2309    H9N2         11/2009  African Stonechat   \n",
       "2             Yes            1708    H9N2         11/2009  African Stonechat   \n",
       "3             Yes             992    H9N2         11/2009  African Stonechat   \n",
       "4             Yes            2200    H9N2         11/2009  African Stonechat   \n",
       "\n",
       "    Country State/Province Flu Season                         Strain Name  \n",
       "0  Viet Nam          -N/A-      -N/A-  A/African Stonechat/Vietnam/8/2009  \n",
       "1  Viet Nam          -N/A-      -N/A-  A/African Stonechat/Vietnam/8/2009  \n",
       "2  Viet Nam          -N/A-      -N/A-  A/African Stonechat/Vietnam/8/2009  \n",
       "3  Viet Nam          -N/A-      -N/A-  A/African Stonechat/Vietnam/8/2009  \n",
       "4  Viet Nam          -N/A-      -N/A-  A/African Stonechat/Vietnam/8/2009  "
      ]
     },
     "execution_count": 2,
     "metadata": {},
     "output_type": "execute_result"
    }
   ],
   "source": [
    "ird_df = pd.read_csv('../data/20160411_Minto_Run2 Sequences.csv')# add last:, parse_dates=['Collection Date'])\n",
    "ird_df['Strain Name'] = ird_df['Strain Name'].str.split('(').str[0]\n",
    "ird_df['Host Species'] = ird_df['Host Species'].str.replace('IRD:', '').str.replace('/Avian', '')\n",
    "ird_df.head()"
   ]
  },
  {
   "cell_type": "code",
   "execution_count": 3,
   "metadata": {
    "collapsed": false
   },
   "outputs": [
    {
     "data": {
      "text/plain": [
       "74    A/mallard/Interior Alaska/12ML00064/2012\n",
       "75    A/mallard/Interior Alaska/12ML00076/2012\n",
       "76    A/mallard/Interior Alaska/12ML00086/2012\n",
       "77    A/mallard/Interior Alaska/12ML00098/2012\n",
       "78    A/mallard/Interior Alaska/12ML00120/2012\n",
       "Name: Strain_name, dtype: object"
      ]
     },
     "execution_count": 3,
     "metadata": {},
     "output_type": "execute_result"
    }
   ],
   "source": [
    "submitted_df = pd.read_csv('../data/Alaska_waterfowl_79viruses_metadata_20151223.csv')\n",
    "submitted_df['Strain_name'].tail()"
   ]
  },
  {
   "cell_type": "code",
   "execution_count": 6,
   "metadata": {
    "collapsed": false
   },
   "outputs": [],
   "source": [
    "for r, d in submitted_df.iterrows():\n",
    "#     print(d['Strain_name'])\n",
    "    assert d['Strain_name'] in ird_df['Strain Name'].values"
   ]
  },
  {
   "cell_type": "code",
   "execution_count": null,
   "metadata": {
    "collapsed": true
   },
   "outputs": [],
   "source": []
  }
 ],
 "metadata": {
  "kernelspec": {
   "display_name": "Python 3",
   "language": "python",
   "name": "python3"
  },
  "language_info": {
   "codemirror_mode": {
    "name": "ipython",
    "version": 3
   },
   "file_extension": ".py",
   "mimetype": "text/x-python",
   "name": "python",
   "nbconvert_exporter": "python",
   "pygments_lexer": "ipython3",
   "version": "3.5.1"
  }
 },
 "nbformat": 4,
 "nbformat_minor": 0
}
