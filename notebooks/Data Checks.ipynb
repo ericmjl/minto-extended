{
 "cells": [
  {
   "cell_type": "code",
   "execution_count": 1,
   "metadata": {
    "collapsed": true
   },
   "outputs": [],
   "source": [
    "import pandas as pd"
   ]
  },
  {
   "cell_type": "markdown",
   "metadata": {},
   "source": [
    "The purpose of this notebook is to check that all 79 of the sequences submitted are present in the IRD download."
   ]
  },
  {
   "cell_type": "code",
   "execution_count": 33,
   "metadata": {
    "collapsed": false
   },
   "outputs": [
    {
     "data": {
      "text/html": [
       "<div>\n",
       "<table border=\"1\" class=\"dataframe\">\n",
       "  <thead>\n",
       "    <tr style=\"text-align: right;\">\n",
       "      <th></th>\n",
       "      <th>Segment</th>\n",
       "      <th>Protein Name</th>\n",
       "      <th>Sequence Accession</th>\n",
       "      <th>Complete Genome</th>\n",
       "      <th>Segment Length</th>\n",
       "      <th>Subtype</th>\n",
       "      <th>Collection Date</th>\n",
       "      <th>Host Species</th>\n",
       "      <th>Country</th>\n",
       "      <th>State/Province</th>\n",
       "      <th>Flu Season</th>\n",
       "      <th>Strain Name</th>\n",
       "    </tr>\n",
       "  </thead>\n",
       "  <tbody>\n",
       "    <tr>\n",
       "      <th>0</th>\n",
       "      <td>1</td>\n",
       "      <td>PB2</td>\n",
       "      <td>KU289745</td>\n",
       "      <td>Yes</td>\n",
       "      <td>2307</td>\n",
       "      <td>H7N3</td>\n",
       "      <td>02/18/2010</td>\n",
       "      <td>American Black Duck</td>\n",
       "      <td>USA</td>\n",
       "      <td>Delaware</td>\n",
       "      <td>09-10</td>\n",
       "      <td>A/American black duck/Delaware/A00870108/2010</td>\n",
       "    </tr>\n",
       "    <tr>\n",
       "      <th>1</th>\n",
       "      <td>5</td>\n",
       "      <td>NP</td>\n",
       "      <td>KU289741</td>\n",
       "      <td>Yes</td>\n",
       "      <td>1540</td>\n",
       "      <td>H7N3</td>\n",
       "      <td>02/18/2010</td>\n",
       "      <td>American Black Duck</td>\n",
       "      <td>USA</td>\n",
       "      <td>Delaware</td>\n",
       "      <td>09-10</td>\n",
       "      <td>A/American black duck/Delaware/A00870108/2010</td>\n",
       "    </tr>\n",
       "    <tr>\n",
       "      <th>2</th>\n",
       "      <td>2</td>\n",
       "      <td>PB1,PB1-F2,PB1-N40</td>\n",
       "      <td>KU289744</td>\n",
       "      <td>Yes</td>\n",
       "      <td>2316</td>\n",
       "      <td>H7N3</td>\n",
       "      <td>02/18/2010</td>\n",
       "      <td>American Black Duck</td>\n",
       "      <td>USA</td>\n",
       "      <td>Delaware</td>\n",
       "      <td>09-10</td>\n",
       "      <td>A/American black duck/Delaware/A00870108/2010</td>\n",
       "    </tr>\n",
       "    <tr>\n",
       "      <th>3</th>\n",
       "      <td>3</td>\n",
       "      <td>PA,PA-N155,PA-N182,PA-X protein(+61)</td>\n",
       "      <td>KU289743</td>\n",
       "      <td>Yes</td>\n",
       "      <td>2208</td>\n",
       "      <td>H7N3</td>\n",
       "      <td>02/18/2010</td>\n",
       "      <td>American Black Duck</td>\n",
       "      <td>USA</td>\n",
       "      <td>Delaware</td>\n",
       "      <td>09-10</td>\n",
       "      <td>A/American black duck/Delaware/A00870108/2010</td>\n",
       "    </tr>\n",
       "    <tr>\n",
       "      <th>4</th>\n",
       "      <td>7</td>\n",
       "      <td>M1,M2</td>\n",
       "      <td>KU289739</td>\n",
       "      <td>Yes</td>\n",
       "      <td>1027</td>\n",
       "      <td>H7N3</td>\n",
       "      <td>02/18/2010</td>\n",
       "      <td>American Black Duck</td>\n",
       "      <td>USA</td>\n",
       "      <td>Delaware</td>\n",
       "      <td>09-10</td>\n",
       "      <td>A/American black duck/Delaware/A00870108/2010</td>\n",
       "    </tr>\n",
       "  </tbody>\n",
       "</table>\n",
       "</div>"
      ],
      "text/plain": [
       "   Segment                          Protein Name Sequence Accession  \\\n",
       "0        1                                   PB2           KU289745   \n",
       "1        5                                    NP           KU289741   \n",
       "2        2                    PB1,PB1-F2,PB1-N40           KU289744   \n",
       "3        3  PA,PA-N155,PA-N182,PA-X protein(+61)           KU289743   \n",
       "4        7                                 M1,M2           KU289739   \n",
       "\n",
       "  Complete Genome  Segment Length Subtype Collection Date  \\\n",
       "0             Yes            2307    H7N3      02/18/2010   \n",
       "1             Yes            1540    H7N3      02/18/2010   \n",
       "2             Yes            2316    H7N3      02/18/2010   \n",
       "3             Yes            2208    H7N3      02/18/2010   \n",
       "4             Yes            1027    H7N3      02/18/2010   \n",
       "\n",
       "          Host Species Country State/Province Flu Season  \\\n",
       "0  American Black Duck     USA       Delaware      09-10   \n",
       "1  American Black Duck     USA       Delaware      09-10   \n",
       "2  American Black Duck     USA       Delaware      09-10   \n",
       "3  American Black Duck     USA       Delaware      09-10   \n",
       "4  American Black Duck     USA       Delaware      09-10   \n",
       "\n",
       "                                     Strain Name  \n",
       "0  A/American black duck/Delaware/A00870108/2010  \n",
       "1  A/American black duck/Delaware/A00870108/2010  \n",
       "2  A/American black duck/Delaware/A00870108/2010  \n",
       "3  A/American black duck/Delaware/A00870108/2010  \n",
       "4  A/American black duck/Delaware/A00870108/2010  "
      ]
     },
     "execution_count": 33,
     "metadata": {},
     "output_type": "execute_result"
    }
   ],
   "source": [
    "ird_df = pd.read_csv('../data/20160408_Minto_Run2 Sequences.csv')# add last:, parse_dates=['Collection Date'])\n",
    "ird_df['Strain Name'] = ird_df['Strain Name'].str.split('(').str[0]\n",
    "ird_df['Host Species'] = ird_df['Host Species'].str.replace('IRD:', '').str.replace('/Avian', '')\n",
    "ird_df.head()"
   ]
  },
  {
   "cell_type": "code",
   "execution_count": 34,
   "metadata": {
    "collapsed": false
   },
   "outputs": [
    {
     "data": {
      "text/plain": [
       "74    A/mallard/Interior Alaska/12ML00064/2012\n",
       "75    A/mallard/Interior Alaska/12ML00076/2012\n",
       "76    A/mallard/Interior Alaska/12ML00086/2012\n",
       "77    A/mallard/Interior Alaska/12ML00098/2012\n",
       "78    A/mallard/Interior Alaska/12ML00120/2012\n",
       "Name: Strain_name, dtype: object"
      ]
     },
     "execution_count": 34,
     "metadata": {},
     "output_type": "execute_result"
    }
   ],
   "source": [
    "submitted_df = pd.read_csv('../data/Alaska_waterfowl_79viruses_metadata_20151223.csv')\n",
    "submitted_df['Strain_name'].tail()"
   ]
  },
  {
   "cell_type": "code",
   "execution_count": 38,
   "metadata": {
    "collapsed": false
   },
   "outputs": [
    {
     "name": "stdout",
     "output_type": "stream",
     "text": [
      "A/mallard/Interior Alaska/12ML00034/2012\n",
      "A/mallard/Interior Alaska/12ML00058/2012\n",
      "A/mallard/Interior Alaska/12ML00059/2012\n",
      "A/mallard/Interior Alaska/12ML00064/2012\n",
      "A/mallard/Interior Alaska/12ML00076/2012\n",
      "A/mallard/Interior Alaska/12ML00086/2012\n",
      "A/mallard/Interior Alaska/12ML00098/2012\n",
      "A/mallard/Interior Alaska/12ML00120/2012\n"
     ]
    }
   ],
   "source": [
    "for r, d in submitted_df.iterrows():\n",
    "#     print(d['Strain_name'])\n",
    "    if d['Strain_name'] not in ird_df['Strain Name'].values:\n",
    "        print(d['Strain_name'])"
   ]
  },
  {
   "cell_type": "code",
   "execution_count": null,
   "metadata": {
    "collapsed": true
   },
   "outputs": [],
   "source": []
  }
 ],
 "metadata": {
  "kernelspec": {
   "display_name": "Python 3",
   "language": "python",
   "name": "python3"
  },
  "language_info": {
   "codemirror_mode": {
    "name": "ipython",
    "version": 3
   },
   "file_extension": ".py",
   "mimetype": "text/x-python",
   "name": "python",
   "nbconvert_exporter": "python",
   "pygments_lexer": "ipython3",
   "version": "3.5.1"
  }
 },
 "nbformat": 4,
 "nbformat_minor": 0
}
