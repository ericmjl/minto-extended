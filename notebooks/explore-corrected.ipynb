{
 "cells": [
  {
   "cell_type": "code",
   "execution_count": 2,
   "metadata": {
    "collapsed": false
   },
   "outputs": [],
   "source": [
    "import pandas as pd\n",
    "\n",
    "from tqdm import tqdm"
   ]
  },
  {
   "cell_type": "code",
   "execution_count": 3,
   "metadata": {
    "collapsed": false
   },
   "outputs": [
    {
     "data": {
      "text/plain": [
       "(1472, 13)"
      ]
     },
     "execution_count": 3,
     "metadata": {},
     "output_type": "execute_result"
    }
   ],
   "source": [
    "df = pd.read_csv('../data/20160411_Minto_Run2 Sequences.corrected_dates_20160506.csv', index_col=0)\n",
    "# df[df['Dates_Corrected_By_Brandt']]\n",
    "df['Sequence Accession'] = df['Sequence Accession'].str.strip('*')\n",
    "df.set_index('Sequence Accession', inplace=True)\n",
    "df = df[df['Date_Corrected_By_Brandt'] == '*']\n",
    "df.shape"
   ]
  },
  {
   "cell_type": "markdown",
   "metadata": {},
   "source": [
    "The \"corrected\" data are only correct w.r.t. the \"Date_Corrected_By_Brandt\" column. The \"Date_still_incorrect\" column has been taken care of on the other side."
   ]
  },
  {
   "cell_type": "code",
   "execution_count": 4,
   "metadata": {
    "collapsed": false
   },
   "outputs": [
    {
     "data": {
      "text/html": [
       "<div>\n",
       "<table border=\"1\" class=\"dataframe\">\n",
       "  <thead>\n",
       "    <tr style=\"text-align: right;\">\n",
       "      <th></th>\n",
       "      <th>Segment</th>\n",
       "      <th>Protein Name</th>\n",
       "      <th>Complete Genome</th>\n",
       "      <th>Segment Length</th>\n",
       "      <th>Subtype</th>\n",
       "      <th>Collection Date</th>\n",
       "      <th>Host Species</th>\n",
       "      <th>Country</th>\n",
       "      <th>State/Province</th>\n",
       "      <th>Flu Season</th>\n",
       "      <th>Strain Name</th>\n",
       "    </tr>\n",
       "    <tr>\n",
       "      <th>Sequence Accession</th>\n",
       "      <th></th>\n",
       "      <th></th>\n",
       "      <th></th>\n",
       "      <th></th>\n",
       "      <th></th>\n",
       "      <th></th>\n",
       "      <th></th>\n",
       "      <th></th>\n",
       "      <th></th>\n",
       "      <th></th>\n",
       "      <th></th>\n",
       "    </tr>\n",
       "  </thead>\n",
       "  <tbody>\n",
       "    <tr>\n",
       "      <th>AB753218</th>\n",
       "      <td>5</td>\n",
       "      <td>NP</td>\n",
       "      <td>Yes</td>\n",
       "      <td>1530</td>\n",
       "      <td>H9N2</td>\n",
       "      <td>11/2009</td>\n",
       "      <td>IRD:African Stonechat/Avian</td>\n",
       "      <td>Viet Nam</td>\n",
       "      <td>-N/A-</td>\n",
       "      <td>-N/A-</td>\n",
       "      <td>A/African Stonechat/Vietnam/8/2009</td>\n",
       "    </tr>\n",
       "    <tr>\n",
       "      <th>AB753215</th>\n",
       "      <td>2</td>\n",
       "      <td>PB1,PB1-F2,PB1-N40</td>\n",
       "      <td>Yes</td>\n",
       "      <td>2309</td>\n",
       "      <td>H9N2</td>\n",
       "      <td>11/2009</td>\n",
       "      <td>IRD:African Stonechat/Avian</td>\n",
       "      <td>Viet Nam</td>\n",
       "      <td>-N/A-</td>\n",
       "      <td>-N/A-</td>\n",
       "      <td>A/African Stonechat/Vietnam/8/2009</td>\n",
       "    </tr>\n",
       "    <tr>\n",
       "      <th>AB753217</th>\n",
       "      <td>4</td>\n",
       "      <td>HA</td>\n",
       "      <td>Yes</td>\n",
       "      <td>1708</td>\n",
       "      <td>H9N2</td>\n",
       "      <td>11/2009</td>\n",
       "      <td>IRD:African Stonechat/Avian</td>\n",
       "      <td>Viet Nam</td>\n",
       "      <td>-N/A-</td>\n",
       "      <td>-N/A-</td>\n",
       "      <td>A/African Stonechat/Vietnam/8/2009</td>\n",
       "    </tr>\n",
       "    <tr>\n",
       "      <th>AB753221</th>\n",
       "      <td>7</td>\n",
       "      <td>M1,M2</td>\n",
       "      <td>Yes</td>\n",
       "      <td>992</td>\n",
       "      <td>H9N2</td>\n",
       "      <td>11/2009</td>\n",
       "      <td>IRD:African Stonechat/Avian</td>\n",
       "      <td>Viet Nam</td>\n",
       "      <td>-N/A-</td>\n",
       "      <td>-N/A-</td>\n",
       "      <td>A/African Stonechat/Vietnam/8/2009</td>\n",
       "    </tr>\n",
       "    <tr>\n",
       "      <th>AB753216</th>\n",
       "      <td>3</td>\n",
       "      <td>PA,PA-N155,PA-N182,PA-X protein(+61)</td>\n",
       "      <td>Yes</td>\n",
       "      <td>2200</td>\n",
       "      <td>H9N2</td>\n",
       "      <td>11/2009</td>\n",
       "      <td>IRD:African Stonechat/Avian</td>\n",
       "      <td>Viet Nam</td>\n",
       "      <td>-N/A-</td>\n",
       "      <td>-N/A-</td>\n",
       "      <td>A/African Stonechat/Vietnam/8/2009</td>\n",
       "    </tr>\n",
       "  </tbody>\n",
       "</table>\n",
       "</div>"
      ],
      "text/plain": [
       "                    Segment                          Protein Name  \\\n",
       "Sequence Accession                                                  \n",
       "AB753218                  5                                    NP   \n",
       "AB753215                  2                    PB1,PB1-F2,PB1-N40   \n",
       "AB753217                  4                                    HA   \n",
       "AB753221                  7                                 M1,M2   \n",
       "AB753216                  3  PA,PA-N155,PA-N182,PA-X protein(+61)   \n",
       "\n",
       "                   Complete Genome  Segment Length Subtype Collection Date  \\\n",
       "Sequence Accession                                                           \n",
       "AB753218                       Yes            1530    H9N2         11/2009   \n",
       "AB753215                       Yes            2309    H9N2         11/2009   \n",
       "AB753217                       Yes            1708    H9N2         11/2009   \n",
       "AB753221                       Yes             992    H9N2         11/2009   \n",
       "AB753216                       Yes            2200    H9N2         11/2009   \n",
       "\n",
       "                                   Host Species   Country State/Province  \\\n",
       "Sequence Accession                                                         \n",
       "AB753218            IRD:African Stonechat/Avian  Viet Nam          -N/A-   \n",
       "AB753215            IRD:African Stonechat/Avian  Viet Nam          -N/A-   \n",
       "AB753217            IRD:African Stonechat/Avian  Viet Nam          -N/A-   \n",
       "AB753221            IRD:African Stonechat/Avian  Viet Nam          -N/A-   \n",
       "AB753216            IRD:African Stonechat/Avian  Viet Nam          -N/A-   \n",
       "\n",
       "                   Flu Season                         Strain Name  \n",
       "Sequence Accession                                                 \n",
       "AB753218                -N/A-  A/African Stonechat/Vietnam/8/2009  \n",
       "AB753215                -N/A-  A/African Stonechat/Vietnam/8/2009  \n",
       "AB753217                -N/A-  A/African Stonechat/Vietnam/8/2009  \n",
       "AB753221                -N/A-  A/African Stonechat/Vietnam/8/2009  \n",
       "AB753216                -N/A-  A/African Stonechat/Vietnam/8/2009  "
      ]
     },
     "execution_count": 4,
     "metadata": {},
     "output_type": "execute_result"
    }
   ],
   "source": [
    "ird_df = pd.read_csv('../data/20160411_Minto_Run2 Sequences.backup_20160518.csv')\n",
    "ird_df['Sequence Accession'] = ird_df['Sequence Accession'].str.strip('*')\n",
    "ird_df.set_index('Sequence Accession', inplace=True)\n",
    "ird_df.head()"
   ]
  },
  {
   "cell_type": "code",
   "execution_count": 9,
   "metadata": {
    "collapsed": false
   },
   "outputs": [
    {
     "name": "stderr",
     "output_type": "stream",
     "text": [
      "1472it [00:00, 7608.81it/s]\n"
     ]
    }
   ],
   "source": [
    "for r, d in tqdm(df.iterrows()):\n",
    "    ird_df.set_value(r, 'Collection Date', d['Collection Date'])"
   ]
  },
  {
   "cell_type": "code",
   "execution_count": 10,
   "metadata": {
    "collapsed": false
   },
   "outputs": [
    {
     "data": {
      "text/plain": [
       "Segment                                                           5\n",
       "Protein Name                                                     NP\n",
       "Complete Genome                                                 Yes\n",
       "Segment Length                                                 1537\n",
       "Subtype                                                        H7N3\n",
       "Collection Date                                            9/4/2010\n",
       "Host Species                                      IRD:Mallard/Avian\n",
       "Country                                                         USA\n",
       "State/Province                                               Alaska\n",
       "Flu Season                                                    -N/A-\n",
       "Strain Name        A/mallard/Interior Alaska/10CH00016R0/2010(H7N3)\n",
       "Name: CY141785, dtype: object"
      ]
     },
     "execution_count": 10,
     "metadata": {},
     "output_type": "execute_result"
    }
   ],
   "source": [
    "ird_df.loc[r]"
   ]
  },
  {
   "cell_type": "code",
   "execution_count": null,
   "metadata": {
    "collapsed": true
   },
   "outputs": [],
   "source": []
  }
 ],
 "metadata": {
  "kernelspec": {
   "display_name": "Python 3",
   "language": "python",
   "name": "python3"
  },
  "language_info": {
   "codemirror_mode": {
    "name": "ipython",
    "version": 3
   },
   "file_extension": ".py",
   "mimetype": "text/x-python",
   "name": "python",
   "nbconvert_exporter": "python",
   "pygments_lexer": "ipython3",
   "version": "3.4.4"
  },
  "widgets": {
   "state": {},
   "version": "1.1.1"
  }
 },
 "nbformat": 4,
 "nbformat_minor": 0
}
